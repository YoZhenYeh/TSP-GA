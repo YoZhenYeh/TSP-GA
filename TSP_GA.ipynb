{
 "cells": [
  {
   "cell_type": "code",
   "execution_count": 1,
   "id": "ba528441",
   "metadata": {},
   "outputs": [],
   "source": [
    "import pandas as pd\n",
    "import numpy as np\n",
    "import random\n",
    "import matplotlib.pyplot as plt\n",
    "import time"
   ]
  },
  {
   "cell_type": "code",
   "execution_count": null,
   "id": "2284f13d",
   "metadata": {},
   "outputs": [],
   "source": [
    "class TSP():\n",
    "    def __init__(self,population_size:float,crossover_rate:float,mutation_rate:float,iteration:int,city:int):\n",
    "        self.pop_size = population_size\n",
    "        self.cross_rate = crossover_rate\n",
    "        self.mutate_rate = mutation_rate\n",
    "        self.N_GENERATIONS = iteration\n",
    "        self.dim = city\n",
    "        self.population = np.vstack([(random.sample(range(dim),dim)) for _ in range(self.pop_size)])\n",
    "    "
   ]
  },
  {
   "cell_type": "code",
   "execution_count": null,
   "id": "742a6e96",
   "metadata": {},
   "outputs": [],
   "source": [
    "pop_size = 200 # 染色體條數\n",
    "cross_rate = 0.7 # 交配比率\n",
    "mutate_rate = 0.3 # 突變率\n",
    "N_GENERATIONS = 500 # 世代數量"
   ]
  }
 ],
 "metadata": {
  "kernelspec": {
   "display_name": "Python 3 (ipykernel)",
   "language": "python",
   "name": "python3"
  },
  "language_info": {
   "codemirror_mode": {
    "name": "ipython",
    "version": 3
   },
   "file_extension": ".py",
   "mimetype": "text/x-python",
   "name": "python",
   "nbconvert_exporter": "python",
   "pygments_lexer": "ipython3",
   "version": "3.8.15"
  },
  "toc": {
   "base_numbering": 1,
   "nav_menu": {},
   "number_sections": true,
   "sideBar": true,
   "skip_h1_title": false,
   "title_cell": "Table of Contents",
   "title_sidebar": "Contents",
   "toc_cell": false,
   "toc_position": {},
   "toc_section_display": true,
   "toc_window_display": false
  }
 },
 "nbformat": 4,
 "nbformat_minor": 5
}
